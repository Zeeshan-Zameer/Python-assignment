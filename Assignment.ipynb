{
 "cells": [
  {
   "cell_type": "code",
   "execution_count": 2,
   "id": "5892ba8e-d81d-4694-8b26-7b6a4a6a5f90",
   "metadata": {},
   "outputs": [
    {
     "name": "stdout",
     "output_type": "stream",
     "text": [
      "Theory Questions Done\n"
     ]
    }
   ],
   "source": [
    "\"\"\"\n",
    "Q.1 What is Python, and why is it popular?\n",
    "\n",
    "Ans.Python is a programming language that is used for variety of tasks. It is popular because of it's simplicity, efficiency, open source libraries and\n",
    "is easy to learn.\n",
    "\n",
    "Q.2 What is an interpreter in Python?\n",
    "\n",
    "Ans. Interpreter is a program that runs the python program line by line instead of compiling all at once.\n",
    "\n",
    "Q.3 What are pre-defined keywords in Python?\n",
    "\n",
    "Ans. Pre defined keywords are names that have reserved functions and cannpt be redefined like if, while, class, import.\n",
    "\n",
    "Q.4 Can keywords be used as variable names ?\n",
    "\n",
    "Ans. Keywords can't be used as variable name because they have reserved or pre defined meanings.\n",
    "\n",
    "Q.5 What is mutability in Python?\n",
    "\n",
    "Ans. Muatbility refers to whether an object's value can be changed after creation or not.\n",
    "\n",
    "Q.6 Why are lists mutable, but tuples are immutable?\n",
    "\n",
    "Ans. Lists store reference to the value while as tuples store the value as fixed quantity.\n",
    "\n",
    "Q.7 What is the difference between “==” and “is” operators in Python?\n",
    "\n",
    "Ans. == is equals to sign. and \"is\" helps to identify or check memory location.\n",
    "\n",
    "Q.8 What are logical operators in Python?\n",
    "\n",
    "Ans. Logical operators are used to combine conditional statements.\n",
    "\n",
    "Q.9 What is type casting in Python?\n",
    "\n",
    "Ans. Type casting refers to changing one data type to another.\n",
    "\n",
    "Q.10 What is the difference between implicit and explicit type casting?\n",
    "\n",
    "Ans. Implicit type casting is where python itself recognises what kind of data it is and then executes operation. and explicit type casting is\n",
    "when we manually convert datatype using int(), float() etc.\n",
    "\n",
    "Q.11 What is the purpose of conditional statements in Python?\n",
    "Ans.Conditional statements are used to control the flow of program based on conditions. (if, ifelse etc.)\n",
    "\n",
    "Q.12 How does the elif statement work?\n",
    "Ans. elif allows multiple conditions instead of writing multiple if statements. so if we got 2 conditions we use if else but when we have multiple\n",
    "conditions then we use elif. if we have to create a program that gives discount based on 3 different age groups then we use elif statements.\n",
    "\n",
    "a= int(input(\"Enter your age\"))\n",
    "if a <=11:\n",
    "    print(\"You are eligible to have our 'Children Discount'\")\n",
    "elif a <=17:\n",
    "    print(\"You are eligible for our 'Teenager Discount'\") \n",
    "else:\n",
    "    print(\"You are an adult\")\n",
    "    \n",
    "\n",
    "Q.13 What is the difference between for and while loops?\n",
    "\n",
    "Ans.While loop runs until condition is false and for loop iterates over a sequence of elements\n",
    "\n",
    "Q.14 Describe a scenario where a while loop is more suitable than a for loop?\n",
    "\n",
    "Ans. While loop is better when we don't know the amount of times the loop would run. e.g we are playing game and there is a mission,let's say\n",
    "GTA V mission. while user  doesn't go and meet trevor the mission is failed and when he meets trevor them  \"Mission passed and respect\".\n",
    "\n",
    "\"\"\"\n",
    "print (\"Theory Questions Done\")\n"
   ]
  },
  {
   "cell_type": "code",
   "execution_count": 28,
   "id": "c9876b48-64ad-4502-8497-e07363b6e43e",
   "metadata": {},
   "outputs": [
    {
     "name": "stdout",
     "output_type": "stream",
     "text": [
      "Hello World!\n"
     ]
    }
   ],
   "source": [
    "# Practical Questions\n",
    "#Q.1 Write a Python program to print \"Hello, World!\n",
    "\n",
    "print (\"Hello World!\")"
   ]
  },
  {
   "cell_type": "code",
   "execution_count": 27,
   "id": "3956928b-31bf-4753-9f60-d38a1c74ec3f",
   "metadata": {},
   "outputs": [
    {
     "name": "stdout",
     "output_type": "stream",
     "text": [
      "My name is Zeeshan and my age is 22\n"
     ]
    }
   ],
   "source": [
    "#Q.2 Write a Python program that displays your name and age\n",
    "\n",
    "Name = \"Zeeshan\"\n",
    "Age = 22\n",
    "print(\"My name is {} and my age is {}\".format(Name, Age))\n"
   ]
  },
  {
   "cell_type": "code",
   "execution_count": 29,
   "id": "6e80be13-6a1f-447e-8bdf-f6ba44ebaf92",
   "metadata": {},
   "outputs": [
    {
     "name": "stdout",
     "output_type": "stream",
     "text": [
      "['False', 'None', 'True', 'and', 'as', 'assert', 'async', 'await', 'break', 'class', 'continue', 'def', 'del', 'elif', 'else', 'except', 'finally', 'for', 'from', 'global', 'if', 'import', 'in', 'is', 'lambda', 'nonlocal', 'not', 'or', 'pass', 'raise', 'return', 'try', 'while', 'with', 'yield']\n"
     ]
    }
   ],
   "source": [
    "#Q.3 Write code to print all the pre-defined keywords in Python using the keyword library?\n",
    "import keyword\n",
    "print(keyword.kwlist)"
   ]
  },
  {
   "cell_type": "code",
   "execution_count": 48,
   "id": "5c268c06-60b3-4874-99e2-ce2d94824f31",
   "metadata": {},
   "outputs": [
    {
     "name": "stdin",
     "output_type": "stream",
     "text": [
      "Enter a word:  while\n"
     ]
    },
    {
     "name": "stdout",
     "output_type": "stream",
     "text": [
      "while is a Python keyword.\n"
     ]
    }
   ],
   "source": [
    "#Q.4Write a program that checks if a given word is a Python keyword.\n",
    "import keyword\n",
    "user_input = input(\"Enter a word: \")\n",
    "\n",
    "if user_input in keyword.kwlist:\n",
    "    print(\"{} is a Python keyword.\".format(user_input))\n",
    "else:\n",
    "    print(\"{} is not a Python keyword.\".format(user_input))\n"
   ]
  },
  {
   "cell_type": "code",
   "execution_count": 60,
   "id": "dc75dfd3-4504-4f93-9573-25dbba1b55ca",
   "metadata": {},
   "outputs": [
    {
     "name": "stdout",
     "output_type": "stream",
     "text": [
      "Error modifying tuple:'tuple' object does not support item assignment\n",
      "\n",
      "Results after modification\n",
      "[10, 2, 3, 5]\n",
      "(1, 2, 3, 5)\n"
     ]
    }
   ],
   "source": [
    "#Q.5 Create a list and tuple in Python, and demonstrate how attempting to change an element works differently for each.\n",
    "\n",
    "a= (1,2,3,5)\n",
    "b=[1,2,3,5]\n",
    "b[0]= 10\n",
    "try:\n",
    "    a[0]=10\n",
    "except TypeError as e:\n",
    "    print(\"Error modifying tuple:{}\".format(e))\n",
    "print()\n",
    "print(\"Results after modification\")\n",
    "print(b)\n",
    "print(a)"
   ]
  },
  {
   "cell_type": "code",
   "execution_count": 68,
   "id": "fe7a4fd1-e41d-4ca1-a2eb-5d8f4b2c4c49",
   "metadata": {},
   "outputs": [
    {
     "name": "stdout",
     "output_type": "stream",
     "text": [
      "Before modification:\n",
      "a (immutable tuple): (1, 2, 3, 5)\n",
      "b (mutable list): [1, 2, 3, 5]\n",
      "Error modifying tuple: 'tuple' object does not support item assignment\n",
      "\n",
      "After modification:\n",
      "a (immutable tuple): (1, 2, 3, 5)\n",
      "b (mutable list): [10, 2, 3, 5]\n"
     ]
    }
   ],
   "source": [
    "#Q.6 Write a function to demonstrate the behavior of mutable and immutable arguments.\n",
    "a = (1, 2, 3, 5)  \n",
    "b = [1, 2, 3, 5]  \n",
    "def mutable_and_immutable(a, b):\n",
    "    print(\"Before modification:\")\n",
    "    print(\"a (immutable tuple): {}\".format(a))\n",
    "    print(\"b (mutable list): {}\".format(b))\n",
    "    \n",
    "    b[0] = 10  \n",
    "    try:\n",
    "        a[0] = 10 \n",
    "    except TypeError as e:\n",
    "        print(\"Error modifying tuple: {}\".format(e))\n",
    "    \n",
    "    print()\n",
    "    print(\"After modification:\")\n",
    "    print(\"a (immutable tuple): {}\".format(a))\n",
    "    print(\"b (mutable list): {}\".format(b))\n",
    "\n",
    "mutable_and_immutable(a,b)"
   ]
  },
  {
   "cell_type": "code",
   "execution_count": 52,
   "id": "a521beb7-9903-4410-bb11-497df8dd1be3",
   "metadata": {},
   "outputs": [
    {
     "name": "stdin",
     "output_type": "stream",
     "text": [
      "Enter any no. 2\n",
      "Enter your favourite no. 5\n"
     ]
    },
    {
     "name": "stdout",
     "output_type": "stream",
     "text": [
      "The sum of numbers is 7\n"
     ]
    }
   ],
   "source": [
    "#Q.7 Write a program that performs basic arithmetic operations on two user-input numbers.\n",
    "a= int(input(\"Enter any no.\"))\n",
    "b=int(input(\"Enter your favourite no.\"))\n",
    "\n",
    "x =a+b\n",
    "print(\"The sum of numbers is {}\".format(x))"
   ]
  },
  {
   "cell_type": "code",
   "execution_count": 63,
   "id": "34a84372-e1d5-4b57-9760-cdde2cc2f552",
   "metadata": {},
   "outputs": [
    {
     "name": "stdout",
     "output_type": "stream",
     "text": [
      "Using AND operator\n",
      "At least one condition is False\n",
      "\n",
      "Now for OR operator\n",
      "At least one condition is True\n"
     ]
    }
   ],
   "source": [
    "#Q.8 Write a program to demonstrate the use of logical operators\n",
    "\n",
    "x = -12\n",
    "y = 20\n",
    "print(\"Using AND operator\")\n",
    "if x > 5 and y > 10:\n",
    "    print(\"Both conditions are True\")\n",
    "else:\n",
    "    print(\"At least one condition is False\")\n",
    "print()\n",
    "print(\"Now for OR operator\")\n",
    "x = -15\n",
    "y = 19\n",
    "if x > 5 or y > 10:\n",
    "    print(\"At least one condition is True\")\n",
    "else:\n",
    "    print(\"Both conditions are False is False\")"
   ]
  },
  {
   "cell_type": "code",
   "execution_count": 67,
   "id": "1449ec7c-bbf4-4499-a2c3-66a6a84f91b3",
   "metadata": {},
   "outputs": [
    {
     "name": "stdin",
     "output_type": "stream",
     "text": [
      "Enter any number 0\n"
     ]
    },
    {
     "name": "stdout",
     "output_type": "stream",
     "text": [
      "0\n",
      "0.0\n",
      "False\n"
     ]
    }
   ],
   "source": [
    "#Q.9 Write a Python program to convert user input from string to integer, float, and boolean types.\n",
    "\n",
    "a=input(\"Enter any number\")\n",
    "if a.isdigit():\n",
    "    print(int(a))\n",
    "    print(float(a))\n",
    "    print(bool(int(a)))\n",
    "else:\n",
    "    print(\"Enter a valid number\")"
   ]
  },
  {
   "cell_type": "code",
   "execution_count": 81,
   "id": "ec474adf-b6af-4be1-8b8e-ab89fd68f2b1",
   "metadata": {},
   "outputs": [
    {
     "data": {
      "text/plain": [
       "str"
      ]
     },
     "execution_count": 81,
     "metadata": {},
     "output_type": "execute_result"
    }
   ],
   "source": [
    "#Q.10  Write code to demonstrate type casting with list elements.\n",
    "\n",
    "list= [1,2,3.0,5,\"Zeeshan\"]\n",
    "type(list[4])"
   ]
  },
  {
   "cell_type": "code",
   "execution_count": 82,
   "id": "acaf60fb-24dd-4cc6-a2ff-67734721dd17",
   "metadata": {},
   "outputs": [
    {
     "name": "stdin",
     "output_type": "stream",
     "text": [
      "Enter any number -1\n"
     ]
    },
    {
     "name": "stdout",
     "output_type": "stream",
     "text": [
      "This is negative number\n"
     ]
    }
   ],
   "source": [
    "#Q.11 Write a program that checks if a number is positive, negative, or zero\n",
    "\n",
    "x= int(input(\"Enter any number\"))\n",
    "if x>0:\n",
    "    print(\"This is a positive number\")\n",
    "elif x==0:\n",
    "    print(\"This number is Zero\")\n",
    "else:\n",
    "    print(\"This is negative number\")"
   ]
  },
  {
   "cell_type": "code",
   "execution_count": 83,
   "id": "189bf6e0-207b-4d45-ac9a-985da3a7c5e6",
   "metadata": {},
   "outputs": [
    {
     "name": "stdout",
     "output_type": "stream",
     "text": [
      "0  1  2  3  4  5  6  7  8  9  10  "
     ]
    }
   ],
   "source": [
    "#Q.12 Write a for loop to print numbers from 1 to 10.\n",
    "for x in range(11):\n",
    "    print(x, end= \"  \")"
   ]
  },
  {
   "cell_type": "code",
   "execution_count": 84,
   "id": "4586a6ce-8739-47ea-a9e0-57b3f4502f1e",
   "metadata": {},
   "outputs": [
    {
     "name": "stdout",
     "output_type": "stream",
     "text": [
      "The total sum is: 625\n"
     ]
    }
   ],
   "source": [
    "#Q.13 Write a Python program to find the sum of all even numbers between 1 and 50\n",
    "\n",
    "Sum=0\n",
    "for num in range(1,51):\n",
    "    if num%2==1:\n",
    "        Sum+= num\n",
    "print(\"The total sum is:\",Sum)\n"
   ]
  },
  {
   "cell_type": "code",
   "execution_count": 85,
   "id": "918fe2da-f71d-499c-bb69-d1fdf6d6514d",
   "metadata": {},
   "outputs": [],
   "source": [
    "#Q.14  Write a program to reverse a string using a while loop.\n"
   ]
  },
  {
   "cell_type": "code",
   "execution_count": 87,
   "id": "11ac6630-2a43-42f0-b4cf-044e0f13d236",
   "metadata": {},
   "outputs": [
    {
     "name": "stdin",
     "output_type": "stream",
     "text": [
      "Enter a number: 5\n"
     ]
    },
    {
     "name": "stdout",
     "output_type": "stream",
     "text": [
      "Factorial of 5 is 120\n"
     ]
    }
   ],
   "source": [
    "#Q.15 Write a Python program to calculate the factorial of a number provided by the user using a while loop.\n",
    "\n",
    "import math\n",
    "\n",
    "num = int(input(\"Enter a number:\"))\n",
    "x=1\n",
    "if num<0:\n",
    "    print(\"Invalid number\")\n",
    "else:\n",
    "    factorial=1\n",
    "    while x<=num:\n",
    "        factorial*=x\n",
    "        x+=1\n",
    "    print(\"Factorial of\", num, \"is\", factorial)"
   ]
  },
  {
   "cell_type": "code",
   "execution_count": null,
   "id": "8628fa73-8816-4981-93d6-9aae4471cdf3",
   "metadata": {},
   "outputs": [],
   "source": []
  },
  {
   "cell_type": "code",
   "execution_count": null,
   "id": "99788f55-11d3-45a8-919f-1249ec1e048c",
   "metadata": {},
   "outputs": [],
   "source": []
  }
 ],
 "metadata": {
  "kernelspec": {
   "display_name": "Python 3 (ipykernel)",
   "language": "python",
   "name": "python3"
  },
  "language_info": {
   "codemirror_mode": {
    "name": "ipython",
    "version": 3
   },
   "file_extension": ".py",
   "mimetype": "text/x-python",
   "name": "python",
   "nbconvert_exporter": "python",
   "pygments_lexer": "ipython3",
   "version": "3.13.1"
  }
 },
 "nbformat": 4,
 "nbformat_minor": 5
}
